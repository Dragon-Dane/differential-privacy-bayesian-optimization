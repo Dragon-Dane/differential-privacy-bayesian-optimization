{
 "cells": [
  {
   "cell_type": "code",
   "execution_count": null,
   "metadata": {},
   "outputs": [],
   "source": [
    "import numpy as np\n",
    "\n",
    "print(\"Opening...\")\n",
    "with open(\"a1a.train\") as f:\n",
    "    train_raw = f.read()\n",
    "\n",
    "with open(\"a1a.test\") as f:\n",
    "    test_raw = f.read()\n",
    "print(\"done opening.\")\n",
    "\n",
    "def process_data(raw_data):\n",
    "    train_lines = raw_data.splitlines()\n",
    "    num_examples = len(train_lines)\n",
    "    num_features = 123\n",
    "    X = np.zeros((num_examples, num_features))\n",
    "    Y = np.zeros((num_examples, 1))\n",
    "    for i, line in enumerate(train_lines):\n",
    "        tokens = line.split()\n",
    "        #label = tokens[0]\n",
    "        label = (int(tokens[0]) + 1) / 2  # Change label from {-1,1} to {0,1}\n",
    "        Y[i] = label\n",
    "        for token in tokens[1:]:\n",
    "            index = int(token[:-2]) - 1\n",
    "            X[i, index] = 1\n",
    "    return X, Y\n",
    "\n",
    "def normalize_data(Xtrain, Xtest):\n",
    "    normalizer = max(np.max(np.linalg.norm(Xtrain, axis=1)),\n",
    "                 np.max(np.linalg.norm(Xtest, axis=1)))\n",
    "    Xtrain = Xtrain / normalizer\n",
    "    Xtest = Xtest / normalizer\n",
    "    return Xtrain, Xtest\n",
    "\n",
    "print(\"Processing...\")\n",
    "Xtrain, Ytrain = process_data(train_raw)\n",
    "Xtest, Ytest = process_data(test_raw)\n",
    "print(\"done processing.\")\n",
    "print(\"Normalizing...\")\n",
    "Xtrain, Xtest = normalize_data(Xtrain, Xtest)\n",
    "print(\"done normalizing.\")"
   ]
  },
  {
   "cell_type": "code",
   "execution_count": null,
   "metadata": {},
   "outputs": [],
   "source": [
    "from math import exp, sqrt\n",
    "from scipy.special import erf\n",
    "from scipy.optimize import root_scalar\n",
    "\n",
    "def get_eps_AGM(sigma, GS, delta, min_eps=1e-6, max_eps=10, tol=1e-12):\n",
    "    # Compute the epsilon corresponding to a Gaussian perturbation\n",
    "    normalized_sigma = sigma / GS\n",
    "    \n",
    "    def Phi(t):\n",
    "        return 0.5*(1.0 + erf(float(t)/sqrt(2.0)))\n",
    "    def get_delta(s, e):\n",
    "        return Phi(-e*s+1.0/(2*s)) - exp(e)*Phi(-e*s-1.0/(2*s))\n",
    "    def f(x):\n",
    "        return get_delta(normalized_sigma, x) - delta\n",
    "    \n",
    "    assert get_delta(normalized_sigma, min_eps) >= delta\n",
    "    assert get_delta(normalized_sigma, max_eps) <= delta\n",
    "    \n",
    "    sol = root_scalar(f, bracket=[min_eps,max_eps], xtol=tol)\n",
    "    assert sol.converged\n",
    "    \n",
    "    return sol.root"
   ]
  },
  {
   "cell_type": "code",
   "execution_count": null,
   "metadata": {},
   "outputs": [],
   "source": [
    "get_eps_AGM(1,0.1,1e-6)"
   ]
  },
  {
   "cell_type": "code",
   "execution_count": null,
   "metadata": {},
   "outputs": [],
   "source": [
    "import psgd\n",
    "\n",
    "psgd.get_eps_AGM(0.1,1.3,1e-6,max_eps=500)"
   ]
  },
  {
   "cell_type": "code",
   "execution_count": null,
   "metadata": {},
   "outputs": [],
   "source": [
    "# ProjSGDClassifier is an sklearn model that needs to be compiled locally\n",
    "# See README in parent folder\n",
    "from sklearn.linear_model import ProjSGDClassifier\n",
    "\n",
    "def dp_proj_sgd(Xtrain, Xtest, reg_lambda=0.001, sigma=0.1, delta=1e-6, R=10):\n",
    "    \n",
    "    # Define the model\n",
    "    clf = ProjSGDClassifier(loss=\"log\", penalty=\"l2\",\n",
    "                            learning_rate=\"bolton\",\n",
    "                            alpha=reg_lambda,\n",
    "                            radius=1.0/reg_lambda,\n",
    "                            max_iter=10,\n",
    "                            verbose=0,\n",
    "                            fit_intercept=False)\n",
    "    #print(clf.get_params())\n",
    "    \n",
    "    scores = []\n",
    "    for r in range(R):       \n",
    "        # Train the model\n",
    "        clf.fit(Xtrain, Ytrain.ravel())\n",
    "        # Privatize the model\n",
    "        Z = sigma*np.random.standard_normal(size=clf.coef_.shape)\n",
    "        clf.coef_ += Z\n",
    "        # Evaluate the model accuracy\n",
    "        score = clf.score(Xtest, Ytest)  \n",
    "        scores.append(score)\n",
    "\n",
    "    # Evaluate the model privacy\n",
    "    # Compute the global sensitivity\n",
    "    m = Xtrain.shape[0]\n",
    "    GS = 4.0/(m*reg_lambda)\n",
    "    epsilon = get_eps_AGM(sigma, GS, delta)\n",
    "    \n",
    "    return np.average(scores), epsilon"
   ]
  },
  {
   "cell_type": "code",
   "execution_count": null,
   "metadata": {},
   "outputs": [],
   "source": [
    "dp_proj_sgd(Xtrain, Xtest, reg_lambda=0.01, sigma=0.1, delta=1e-6)"
   ]
  },
  {
   "cell_type": "code",
   "execution_count": null,
   "metadata": {},
   "outputs": [],
   "source": []
  }
 ],
 "metadata": {
  "kernelspec": {
   "display_name": "Python 3",
   "language": "python",
   "name": "python3"
  },
  "language_info": {
   "codemirror_mode": {
    "name": "ipython",
    "version": 3
   },
   "file_extension": ".py",
   "mimetype": "text/x-python",
   "name": "python",
   "nbconvert_exporter": "python",
   "pygments_lexer": "ipython3",
   "version": "3.6.9"
  }
 },
 "nbformat": 4,
 "nbformat_minor": 2
}
